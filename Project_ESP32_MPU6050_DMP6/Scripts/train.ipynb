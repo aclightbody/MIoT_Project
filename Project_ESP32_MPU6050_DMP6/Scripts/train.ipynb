{
  "nbformat": 4,
  "nbformat_minor": 0,
  "metadata": {
    "colab": {
      "provenance": [],
      "gpuType": "L4",
      "authorship_tag": "ABX9TyMQcrfWj3UwhKub2CsZreop",
      "include_colab_link": true
    },
    "kernelspec": {
      "name": "python3",
      "display_name": "Python 3"
    },
    "language_info": {
      "name": "python"
    },
    "accelerator": "GPU"
  },
  "cells": [
    {
      "cell_type": "markdown",
      "metadata": {
        "id": "view-in-github",
        "colab_type": "text"
      },
      "source": [
        "<a href=\"https://colab.research.google.com/github/aclightbody/MIoT_Project/blob/main/Project_ESP32_MPU6050_DMP6/Scripts/train.ipynb\" target=\"_parent\"><img src=\"https://colab.research.google.com/assets/colab-badge.svg\" alt=\"Open In Colab\"/></a>"
      ]
    },
    {
      "cell_type": "markdown",
      "source": [
        "Training is much faster using GPU acceleration. Before you proceed, ensure you are using a GPU runtime by going to **Runtime -> Change runtime type** and selecting **GPU**. Training will take around 5 minutes on a GPU runtime."
      ],
      "metadata": {
        "id": "tp8hiTw0uXee"
      }
    },
    {
      "cell_type": "code",
      "execution_count": 3,
      "metadata": {
        "id": "PmWlsMf4sAgd",
        "colab": {
          "base_uri": "https://localhost:8080/"
        },
        "outputId": "ced52784-b3df-43b6-c8ae-14aece849759"
      },
      "outputs": [
        {
          "output_type": "stream",
          "name": "stdout",
          "text": [
            "fatal: destination path 'MIoT_Project' already exists and is not an empty directory.\n"
          ]
        }
      ],
      "source": [
        "# Clone repository from GitHub\n",
        "!git clone https://github.com/aclightbody/MIoT_Project.git"
      ]
    },
    {
      "cell_type": "code",
      "source": [
        "import csv\n",
        "import pandas\n",
        "import numpy\n",
        "import tensorflow as tf\n",
        "import matplotlib.pyplot as plt\n",
        "import os\n",
        "from mlxtend.plotting import plot_decision_regions\n",
        "\n",
        "# https://stackoverflow.com/questions/55424906/building-svm-with-tensorflows-linearclassifier-and-pandas-dataframes\n",
        "# https://aiplanet.com/notebooks/2418/binthamza/svm-classification-with-tfkeras-model\n",
        "# https://stackoverflow.com/questions/55424906/building-svm-with-tensorflows-linearclassifier-and-pandas-dataframes\n",
        "# https://www.kaggle.com/code/shadesh/svm-classification-using-tensorflow-and-keras\n",
        "\n",
        "cwd = os.getcwd()\n",
        "print(cwd)\n",
        "\n",
        "path = '/content/MIoT_Project/Project_ESP32_MPU6050_DMP6/Data'\n",
        "dataDrop = pandas.read_csv(path + \"/FeatureExtractDrop.csv\").values\n",
        "dataWalk = pandas.read_csv(path + \"/FeatureExtractWalk.csv\").values"
      ],
      "metadata": {
        "colab": {
          "base_uri": "https://localhost:8080/"
        },
        "id": "D2dY-ThVudVX",
        "outputId": "10bf6ed7-9b23-4c4d-f66a-7f6ad289429d"
      },
      "execution_count": 4,
      "outputs": [
        {
          "output_type": "stream",
          "name": "stdout",
          "text": [
            "/content\n"
          ]
        }
      ]
    },
    {
      "cell_type": "code",
      "source": [
        "# Features\n",
        "x = dataDrop[:, 1:]\n",
        "x = numpy.append(x,dataWalk[:,1:], axis=0)\n",
        "\n",
        "# Labels\n",
        "y = dataDrop[:, 0]\n",
        "y = numpy.append(y,dataWalk[:,0], axis=0)\n",
        "\n",
        "# print(\"x.shape: \" + str(x.shape))\n",
        "# print(\"y.shape: \" + str(y.shape))\n",
        "\n",
        "# # plt.scatter(x[:,0], x[:,1], c=y, cmap=plt.cm.Set1)\n",
        "# plt.scatter(dataDrop[:,1], dataDrop[:,2], c='red', label='Fall')\n",
        "# plt.scatter(dataWalk[:,1], dataWalk[:,2], c='blue', label='Walk')\n",
        "# plt.xlabel(\"axyStdDevL\")\n",
        "# plt.ylabel(\"axyStdDevR\")\n",
        "# plt.legend(loc=\"upper right\")\n",
        "# plt.show()"
      ],
      "metadata": {
        "id": "fdGFY_CsufkN"
      },
      "execution_count": 5,
      "outputs": []
    },
    {
      "cell_type": "code",
      "source": [
        "def get_model():\n",
        "    #Linear SVM model\n",
        "    model = tf.keras.Sequential()\n",
        "    # Metric: is a function to assess model performance. Similar to loss functions, except that the results from evaluating a metric are not used when training the model. Note that you may use any loss function as a metric.\n",
        "    # Optimizer: adam is a commonly used one. Learning rate: step size when adjusting paramters in model (usually 0.001 to 0.1). Larger learning rate reduces iterations but reduces accuracy, smaller rate gives higher accuracy and more iterations. https://stackoverflow.com/questions/59737875/keras-change-learning-rate\n",
        "    # Dense layer of 1 means that this layer has one neuron (unit). Since only one layer (output layer) is being added with one neuron, it's linear.\n",
        "    # Activation function: mathematical function applied to the neuron output in a neural layer. These are used to introduce non-linearity in a neural network. Linear (pass through): input unmodified. https://keras.io/api/layers/activations/.\n",
        "    # Kernel regularizer: Typical values for the regularisation parameters are 1 to 10, 10 being default. https://keras.io/api/layers/regularizers/. L1 and L2 regularizers have default of 0.01. The L2 regularization penalty is computed as: loss = l2 * reduce_sum(square(x)).Kernel regularizer tries to reduce the weights (excluding bias). https://stats.stackexchange.com/questions/383310/what-is-the-difference-between-kernel-bias-and-activity-regulizers-and-when-t\n",
        "    # Loss: Hinge loss is equivalent to slack variable. Custom loss function used for hinge loss https://keras.io/api/losses/. https://keras.io/api/losses/hinge_losses/.\n",
        "    # Kernel: linear, polynomial, guassian, sigmoid, etc\n",
        "    optmzr = tf.keras.optimizers.Adam(learning_rate=0.01)\n",
        "    model.add(tf.keras.layers.Dense(1, activation='linear', kernel_regularizer=tf.keras.regularizers.l2(1)))\n",
        "    model.compile(optimizer=optmzr, loss=tf.keras.losses.Hinge(), metrics=[\"accuracy\"])\n",
        "    return model\n",
        "\n",
        "model = get_model()"
      ],
      "metadata": {
        "id": "Sh1nitIeugbs"
      },
      "execution_count": 6,
      "outputs": []
    },
    {
      "cell_type": "code",
      "source": [
        "# batch_size: Number of samples per gradient update. If unspecified, batch_size will default to 32. The batch size is the number of training examples that you use to perform one step of stochastic gradient descent (SGD). https://stackoverflow.com/questions/61029052/what-is-the-batchsize-in-tensorflows-model-fit-function\n",
        "history = model.fit(x, y, epochs=100, verbose=False)\n",
        "print(\"Finished training the model\")\n",
        "model.summary()"
      ],
      "metadata": {
        "colab": {
          "base_uri": "https://localhost:8080/",
          "height": 199
        },
        "id": "0T4aNFGue-nJ",
        "outputId": "0f0fb430-d080-4b71-c10e-f223a9e861c7"
      },
      "execution_count": 7,
      "outputs": [
        {
          "output_type": "stream",
          "name": "stdout",
          "text": [
            "Finished training the model\n"
          ]
        },
        {
          "output_type": "display_data",
          "data": {
            "text/plain": [
              "\u001b[1mModel: \"sequential\"\u001b[0m\n"
            ],
            "text/html": [
              "<pre style=\"white-space:pre;overflow-x:auto;line-height:normal;font-family:Menlo,'DejaVu Sans Mono',consolas,'Courier New',monospace\"><span style=\"font-weight: bold\">Model: \"sequential\"</span>\n",
              "</pre>\n"
            ]
          },
          "metadata": {}
        },
        {
          "output_type": "display_data",
          "data": {
            "text/plain": [
              "┏━━━━━━━━━━━━━━━━━━━━━━━━━━━━━━━━━━━━━━┳━━━━━━━━━━━━━━━━━━━━━━━━━━━━━┳━━━━━━━━━━━━━━━━━┓\n",
              "┃\u001b[1m \u001b[0m\u001b[1mLayer (type)                        \u001b[0m\u001b[1m \u001b[0m┃\u001b[1m \u001b[0m\u001b[1mOutput Shape               \u001b[0m\u001b[1m \u001b[0m┃\u001b[1m \u001b[0m\u001b[1m        Param #\u001b[0m\u001b[1m \u001b[0m┃\n",
              "┡━━━━━━━━━━━━━━━━━━━━━━━━━━━━━━━━━━━━━━╇━━━━━━━━━━━━━━━━━━━━━━━━━━━━━╇━━━━━━━━━━━━━━━━━┩\n",
              "│ dense (\u001b[38;5;33mDense\u001b[0m)                        │ (\u001b[38;5;45mNone\u001b[0m, \u001b[38;5;34m1\u001b[0m)                   │               \u001b[38;5;34m3\u001b[0m │\n",
              "└──────────────────────────────────────┴─────────────────────────────┴─────────────────┘\n"
            ],
            "text/html": [
              "<pre style=\"white-space:pre;overflow-x:auto;line-height:normal;font-family:Menlo,'DejaVu Sans Mono',consolas,'Courier New',monospace\">┏━━━━━━━━━━━━━━━━━━━━━━━━━━━━━━━━━━━━━━┳━━━━━━━━━━━━━━━━━━━━━━━━━━━━━┳━━━━━━━━━━━━━━━━━┓\n",
              "┃<span style=\"font-weight: bold\"> Layer (type)                         </span>┃<span style=\"font-weight: bold\"> Output Shape                </span>┃<span style=\"font-weight: bold\">         Param # </span>┃\n",
              "┡━━━━━━━━━━━━━━━━━━━━━━━━━━━━━━━━━━━━━━╇━━━━━━━━━━━━━━━━━━━━━━━━━━━━━╇━━━━━━━━━━━━━━━━━┩\n",
              "│ dense (<span style=\"color: #0087ff; text-decoration-color: #0087ff\">Dense</span>)                        │ (<span style=\"color: #00d7ff; text-decoration-color: #00d7ff\">None</span>, <span style=\"color: #00af00; text-decoration-color: #00af00\">1</span>)                   │               <span style=\"color: #00af00; text-decoration-color: #00af00\">3</span> │\n",
              "└──────────────────────────────────────┴─────────────────────────────┴─────────────────┘\n",
              "</pre>\n"
            ]
          },
          "metadata": {}
        },
        {
          "output_type": "display_data",
          "data": {
            "text/plain": [
              "\u001b[1m Total params: \u001b[0m\u001b[38;5;34m11\u001b[0m (48.00 B)\n"
            ],
            "text/html": [
              "<pre style=\"white-space:pre;overflow-x:auto;line-height:normal;font-family:Menlo,'DejaVu Sans Mono',consolas,'Courier New',monospace\"><span style=\"font-weight: bold\"> Total params: </span><span style=\"color: #00af00; text-decoration-color: #00af00\">11</span> (48.00 B)\n",
              "</pre>\n"
            ]
          },
          "metadata": {}
        },
        {
          "output_type": "display_data",
          "data": {
            "text/plain": [
              "\u001b[1m Trainable params: \u001b[0m\u001b[38;5;34m3\u001b[0m (12.00 B)\n"
            ],
            "text/html": [
              "<pre style=\"white-space:pre;overflow-x:auto;line-height:normal;font-family:Menlo,'DejaVu Sans Mono',consolas,'Courier New',monospace\"><span style=\"font-weight: bold\"> Trainable params: </span><span style=\"color: #00af00; text-decoration-color: #00af00\">3</span> (12.00 B)\n",
              "</pre>\n"
            ]
          },
          "metadata": {}
        },
        {
          "output_type": "display_data",
          "data": {
            "text/plain": [
              "\u001b[1m Non-trainable params: \u001b[0m\u001b[38;5;34m0\u001b[0m (0.00 B)\n"
            ],
            "text/html": [
              "<pre style=\"white-space:pre;overflow-x:auto;line-height:normal;font-family:Menlo,'DejaVu Sans Mono',consolas,'Courier New',monospace\"><span style=\"font-weight: bold\"> Non-trainable params: </span><span style=\"color: #00af00; text-decoration-color: #00af00\">0</span> (0.00 B)\n",
              "</pre>\n"
            ]
          },
          "metadata": {}
        },
        {
          "output_type": "display_data",
          "data": {
            "text/plain": [
              "\u001b[1m Optimizer params: \u001b[0m\u001b[38;5;34m8\u001b[0m (36.00 B)\n"
            ],
            "text/html": [
              "<pre style=\"white-space:pre;overflow-x:auto;line-height:normal;font-family:Menlo,'DejaVu Sans Mono',consolas,'Courier New',monospace\"><span style=\"font-weight: bold\"> Optimizer params: </span><span style=\"color: #00af00; text-decoration-color: #00af00\">8</span> (36.00 B)\n",
              "</pre>\n"
            ]
          },
          "metadata": {}
        }
      ]
    },
    {
      "cell_type": "code",
      "source": [
        "# accuracy = history.history['accuracy']\n",
        "# # val_accuracy = history.history['val_accuracy']\n",
        "# loss = history.history['loss']\n",
        "# # val_loss = history.history['val_loss']\n",
        "\n",
        "# plt.figure(figsize=(5, 5))\n",
        "# plt.xlabel('Epoch Number')\n",
        "# plt.ylabel(\"Loss Magnitude\")\n",
        "# plt.plot(history.history['loss'])\n",
        "\n",
        "# plt.figure(figsize=(5, 5))\n",
        "# plt.plot(accuracy, label='Training Accuracy')\n",
        "# plt.xlabel('Epoch Number')\n",
        "# plt.ylabel('Accuracy')\n",
        "\n",
        "# plt.figure(figsize=(5, 5))\n",
        "# plt.plot(loss, label='Training Loss')\n",
        "# plt.xlabel('Epoch Number')\n",
        "# plt.ylabel('Loss')\n",
        "\n",
        "# plt.figure(figsize=(5, 5))\n",
        "# plt.plot(x, y) # model.layers[0].kernel.numpy(), -model.layers[0].bias.numpy()\n",
        "\n",
        "# model.compile(optimizer=\"adam\", loss=\"sparse_categorical_crossentropy\", metrics=[\"accuracy\"])\n",
        "# loss, acc = model.evaluate(test_data)\n",
        "# pred = np.argmax(model.predict(test_data), axis=1)\n",
        "# confusion = tf.math.confusion_matrix(labels=tf.constant(test_labels), predictions=tf.constant(pred), num_classes=4)\n",
        "# print(confusion)\n",
        "# print(\"Loss {}, Accuracy {}\".format(loss, acc))\n",
        "\n",
        "# history = model.fit(X_train, y_train, validation_data=(X_val, y_val), epochs=10, batch_size=32)\n",
        "\n",
        "\n",
        "# plot(X, Y, W=model.weight.t().detach().numpy(), b=-model.bias.detach().numpy())\n",
        "\n",
        "# history = model.fit(train_features, train_labels, epochs=400, batch_size=64, validation_data=(test_features, test_labels))"
      ],
      "metadata": {
        "id": "uTEIZ5HTun-m"
      },
      "execution_count": 8,
      "outputs": []
    },
    {
      "cell_type": "code",
      "source": [
        "# print(f' W: {model.weights}')\n",
        "w = model.get_weights()[0] # weight vector w0, w1\n",
        "b = model.get_weights()[1] # bias, b\n",
        "\n",
        "# Same as above\n",
        "print(model.layers[0].kernel.numpy()) # Weight vector\n",
        "print(model.layers[0].bias.numpy()) # Bias\n",
        "\n",
        "# hyperplane\n",
        "# w.x + b = 0\n",
        "# w0*x0 + w1*x1 + b = 0\n",
        "# y = mx + c --> x1 = -(w0/w1)*x0 - b/w1\n",
        "# https://vitalitylearning.medium.com/support-vector-machines-with-tensorflow-4fb345f01bca\n",
        "m = - w[0]/w[1] # gradient\n",
        "c = - b[0]/w[1] # constant\n",
        "\n",
        "xSep          = [x[0] for x in x]\n",
        "ySep          = [m * x + c for x in xSep]"
      ],
      "metadata": {
        "colab": {
          "base_uri": "https://localhost:8080/"
        },
        "id": "JGxDrEZnjvqJ",
        "outputId": "c4a4b913-9f8b-4f66-f727-ebdf725212e3"
      },
      "execution_count": 42,
      "outputs": [
        {
          "output_type": "stream",
          "name": "stdout",
          "text": [
            "[[-0.09380504]\n",
            " [ 0.02112221]]\n",
            "[-0.72072035]\n"
          ]
        }
      ]
    },
    {
      "cell_type": "code",
      "source": [
        "# print(model.layers[0].kernel.numpy()) # Weight vector\n",
        "# print(-model.layers[0].bias.numpy()) # Bias\n",
        "\n",
        "# prediction = model.predict_generator(test, verbose=1)\n",
        "\n",
        "# plt.figure(figsize=(5, 5))\n",
        "# plt.scatter(dataDrop[:,1], dataDrop[:,2], c='red', label='Fall')\n",
        "# plt.scatter(dataWalk[:,1], dataWalk[:,2], c='blue', label='Walk')\n",
        "# plt.xlabel(\"axyStdDevL\")\n",
        "# plt.ylabel(\"axyStdDevR\")\n",
        "# plt.legend(loc=\"upper right\")\n",
        "\n",
        "# plot_decision_regions(x, y, clf=model, legend=2)\n",
        "\n",
        "x_min, x_max = x[:, 0].min() - 1, x[:, 0].max() + 1\n",
        "y_min, y_max = x[:, 1].min() - 1, x[:, 1].max() + 1\n",
        "xx, yy = numpy.meshgrid(numpy.arange(x_min, x_max, 10),numpy.arange(y_min, y_max, 10))\n",
        "Z = model.predict(numpy.c_[xx.ravel(), yy.ravel()])\n",
        "Z = Z.reshape(xx.shape)\n",
        "cs = plt.contourf(xx, yy, Z, cmap=plt.cm.coolwarm, alpha=0.8)\n",
        "\n",
        "# plt.scatter(x[:, 0], x[:, 1], c=y, cmap=plt.cm.Set1)\n",
        "# plt.plot(numpy.reshape(xSep, (len(xSep), 1)), numpy.reshape(ySep, (len(ySep), 1)), 'b-', label='Dividing line')\n",
        "plt.plot(xSep, ySep, 'b-', label='Hyperplane')\n",
        "plt.scatter(dataDrop[:,1], dataDrop[:,2], c='red', label='Fall')\n",
        "plt.scatter(dataWalk[:,1], dataWalk[:,2], c='blue', label='Walk')\n",
        "plt.xlabel(\"axyStdDevL\")\n",
        "plt.ylabel(\"axyStdDevR\")\n",
        "plt.legend(loc=\"upper right\")\n",
        "plt.ylim(550,1400)\n",
        "plt.show"
      ],
      "metadata": {
        "id": "kQc5wmDcxPwg",
        "colab": {
          "base_uri": "https://localhost:8080/",
          "height": 643
        },
        "outputId": "eebf973d-bcb9-4026-9d44-c106aedea958"
      },
      "execution_count": 55,
      "outputs": [
        {
          "output_type": "stream",
          "name": "stdout",
          "text": [
            "\u001b[1m149/149\u001b[0m \u001b[32m━━━━━━━━━━━━━━━━━━━━\u001b[0m\u001b[37m\u001b[0m \u001b[1m1s\u001b[0m 6ms/step\n"
          ]
        },
        {
          "output_type": "execute_result",
          "data": {
            "text/plain": [
              "<function matplotlib.pyplot.show(close=None, block=None)>"
            ],
            "text/html": [
              "<div style=\"max-width:800px; border: 1px solid var(--colab-border-color);\"><style>\n",
              "      pre.function-repr-contents {\n",
              "        overflow-x: auto;\n",
              "        padding: 8px 12px;\n",
              "        max-height: 500px;\n",
              "      }\n",
              "\n",
              "      pre.function-repr-contents.function-repr-contents-collapsed {\n",
              "        cursor: pointer;\n",
              "        max-height: 100px;\n",
              "      }\n",
              "    </style>\n",
              "    <pre style=\"white-space: initial; background:\n",
              "         var(--colab-secondary-surface-color); padding: 8px 12px;\n",
              "         border-bottom: 1px solid var(--colab-border-color);\"><b>matplotlib.pyplot.show</b><br/>def show(*args, **kwargs)</pre><pre class=\"function-repr-contents function-repr-contents-collapsed\" style=\"\"><a class=\"filepath\" style=\"display:none\" href=\"#\">/usr/local/lib/python3.10/dist-packages/matplotlib/pyplot.py</a>Display all open figures.\n",
              "\n",
              "Parameters\n",
              "----------\n",
              "block : bool, optional\n",
              "    Whether to wait for all figures to be closed before returning.\n",
              "\n",
              "    If `True` block and run the GUI main loop until all figure windows\n",
              "    are closed.\n",
              "\n",
              "    If `False` ensure that all figure windows are displayed and return\n",
              "    immediately.  In this case, you are responsible for ensuring\n",
              "    that the event loop is running to have responsive figures.\n",
              "\n",
              "    Defaults to True in non-interactive mode and to False in interactive\n",
              "    mode (see `.pyplot.isinteractive`).\n",
              "\n",
              "See Also\n",
              "--------\n",
              "ion : Enable interactive mode, which shows / updates the figure after\n",
              "      every plotting command, so that calling ``show()`` is not necessary.\n",
              "ioff : Disable interactive mode.\n",
              "savefig : Save the figure to an image file instead of showing it on screen.\n",
              "\n",
              "Notes\n",
              "-----\n",
              "**Saving figures to file and showing a window at the same time**\n",
              "\n",
              "If you want an image file as well as a user interface window, use\n",
              "`.pyplot.savefig` before `.pyplot.show`. At the end of (a blocking)\n",
              "``show()`` the figure is closed and thus unregistered from pyplot. Calling\n",
              "`.pyplot.savefig` afterwards would save a new and thus empty figure. This\n",
              "limitation of command order does not apply if the show is non-blocking or\n",
              "if you keep a reference to the figure and use `.Figure.savefig`.\n",
              "\n",
              "**Auto-show in jupyter notebooks**\n",
              "\n",
              "The jupyter backends (activated via ``%matplotlib inline``,\n",
              "``%matplotlib notebook``, or ``%matplotlib widget``), call ``show()`` at\n",
              "the end of every cell by default. Thus, you usually don&#x27;t have to call it\n",
              "explicitly there.</pre>\n",
              "      <script>\n",
              "      if (google.colab.kernel.accessAllowed && google.colab.files && google.colab.files.view) {\n",
              "        for (const element of document.querySelectorAll('.filepath')) {\n",
              "          element.style.display = 'block'\n",
              "          element.onclick = (event) => {\n",
              "            event.preventDefault();\n",
              "            event.stopPropagation();\n",
              "            google.colab.files.view(element.textContent, 482);\n",
              "          };\n",
              "        }\n",
              "      }\n",
              "      for (const element of document.querySelectorAll('.function-repr-contents')) {\n",
              "        element.onclick = (event) => {\n",
              "          event.preventDefault();\n",
              "          event.stopPropagation();\n",
              "          element.classList.toggle('function-repr-contents-collapsed');\n",
              "        };\n",
              "      }\n",
              "      </script>\n",
              "      </div>"
            ]
          },
          "metadata": {},
          "execution_count": 55
        },
        {
          "output_type": "display_data",
          "data": {
            "text/plain": [
              "<Figure size 640x480 with 1 Axes>"
            ],
            "image/png": "[encoded data removed]"
          },
          "metadata": {}
        }
      ]
    }
  ]
}