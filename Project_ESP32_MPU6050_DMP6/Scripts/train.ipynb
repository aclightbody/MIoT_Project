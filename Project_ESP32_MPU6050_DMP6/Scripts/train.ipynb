{
 "cells": [
  {
   "cell_type": "markdown",
   "metadata": {
    "colab_type": "text",
    "id": "view-in-github"
   },
   "source": [
    "<a href=\"https://colab.research.google.com/github/aclightbody/MIoT_Project/blob/main/Project_ESP32_MPU6050_DMP6/Scripts/train.ipynb\" target=\"_parent\"><img src=\"https://colab.research.google.com/assets/colab-badge.svg\" alt=\"Open In Colab\"/></a>"
   ]
  },
  {
   "cell_type": "markdown",
   "metadata": {
    "id": "tp8hiTw0uXee"
   },
   "source": [
    "Training is much faster using GPU acceleration. Before you proceed, ensure you are using a GPU runtime by going to **Runtime -> Change runtime type** and selecting **GPU**. Training will take around 5 minutes on a GPU runtime."
   ]
  },
  {
   "cell_type": "code",
   "execution_count": 1,
   "metadata": {
    "colab": {
     "base_uri": "https://localhost:8080/"
    },
    "id": "PmWlsMf4sAgd",
    "outputId": "03f0c00f-3828-4455-b7ee-7738cf9c0842"
   },
   "outputs": [
    {
     "name": "stderr",
     "output_type": "stream",
     "text": [
      "Cloning into 'MIoT_Project'...\n"
     ]
    }
   ],
   "source": [
    "# Clone repository from GitHub\n",
    "!git clone https://github.com/aclightbody/MIoT_Project.git"
   ]
  },
  {
   "cell_type": "code",
   "execution_count": 2,
   "metadata": {
    "colab": {
     "base_uri": "https://localhost:8080/"
    },
    "id": "D2dY-ThVudVX",
    "outputId": "11a5b939-1cf8-4db0-ad8d-feb48986cbc8"
   },
   "outputs": [
    {
     "name": "stdout",
     "output_type": "stream",
     "text": [
      "/content\n"
     ]
    }
   ],
   "source": [
    "import csv\n",
    "import pandas\n",
    "import numpy\n",
    "import tensorflow as tf\n",
    "import matplotlib.pyplot as plt\n",
    "import os\n",
    "from mlxtend.plotting import plot_decision_regions\n",
    "\n",
    "# https://stackoverflow.com/questions/55424906/building-svm-with-tensorflows-linearclassifier-and-pandas-dataframes\n",
    "# https://aiplanet.com/notebooks/2418/binthamza/svm-classification-with-tfkeras-model\n",
    "# https://stackoverflow.com/questions/55424906/building-svm-with-tensorflows-linearclassifier-and-pandas-dataframes\n",
    "# https://www.kaggle.com/code/shadesh/svm-classification-using-tensorflow-and-keras\n",
    "\n",
    "cwd = os.getcwd()\n",
    "print(cwd)\n",
    "\n",
    "path = '/content/MIoT_Project/Project_ESP32_MPU6050_DMP6/Data'\n",
    "dataDrop = pandas.read_csv(path + \"/FeatureExtractDrop.csv\").values\n",
    "dataWalk = pandas.read_csv(path + \"/FeatureExtractWalk.csv\").values"
   ]
  },
  {
   "cell_type": "code",
   "execution_count": 3,
   "metadata": {
    "id": "fdGFY_CsufkN"
   },
   "outputs": [],
   "source": [
    "# Features\n",
    "x = dataDrop[:, 1:]\n",
    "x = numpy.append(x,dataWalk[:,1:], axis=0)\n",
    "\n",
    "# Labels\n",
    "y = dataDrop[:, 0]\n",
    "y = numpy.append(y,dataWalk[:,0], axis=0)\n",
    "\n",
    "# print(\"x.shape: \" + str(x.shape))\n",
    "# print(\"y.shape: \" + str(y.shape))\n",
    "\n",
    "# # plt.scatter(x[:,0], x[:,1], c=y, cmap=plt.cm.Set1)\n",
    "# plt.scatter(dataDrop[:,1], dataDrop[:,2], c='red', label='Fall')\n",
    "# plt.scatter(dataWalk[:,1], dataWalk[:,2], c='blue', label='Walk')\n",
    "# plt.xlabel(\"axyStdDevL\")\n",
    "# plt.ylabel(\"axyStdDevR\")\n",
    "# plt.legend(loc=\"upper right\")\n",
    "# plt.show()"
   ]
  },
  {
   "cell_type": "code",
   "execution_count": 4,
   "metadata": {
    "colab": {
     "base_uri": "https://localhost:8080/",
     "height": 164
    },
    "id": "Sh1nitIeugbs",
    "outputId": "292a6553-5318-4a47-c94e-25d388df10d8"
   },
   "outputs": [
    {
     "data": {
      "text/html": [
       "<pre style=\"white-space:pre;overflow-x:auto;line-height:normal;font-family:Menlo,'DejaVu Sans Mono',consolas,'Courier New',monospace\"><span style=\"font-weight: bold\">Model: \"sequential\"</span>\n",
       "</pre>\n"
      ],
      "text/plain": [
       "\u001b[1mModel: \"sequential\"\u001b[0m\n"
      ]
     },
     "metadata": {},
     "output_type": "display_data"
    },
    {
     "data": {
      "text/html": [
       "<pre style=\"white-space:pre;overflow-x:auto;line-height:normal;font-family:Menlo,'DejaVu Sans Mono',consolas,'Courier New',monospace\">┏━━━━━━━━━━━━━━━━━━━━━━━━━━━━━━━━━━━━━━┳━━━━━━━━━━━━━━━━━━━━━━━━━━━━━┳━━━━━━━━━━━━━━━━━┓\n",
       "┃<span style=\"font-weight: bold\"> Layer (type)                         </span>┃<span style=\"font-weight: bold\"> Output Shape                </span>┃<span style=\"font-weight: bold\">         Param # </span>┃\n",
       "┡━━━━━━━━━━━━━━━━━━━━━━━━━━━━━━━━━━━━━━╇━━━━━━━━━━━━━━━━━━━━━━━━━━━━━╇━━━━━━━━━━━━━━━━━┩\n",
       "│ dense (<span style=\"color: #0087ff; text-decoration-color: #0087ff\">Dense</span>)                        │ ?                           │     <span style=\"color: #00af00; text-decoration-color: #00af00\">0</span> (unbuilt) │\n",
       "└──────────────────────────────────────┴─────────────────────────────┴─────────────────┘\n",
       "</pre>\n"
      ],
      "text/plain": [
       "┏━━━━━━━━━━━━━━━━━━━━━━━━━━━━━━━━━━━━━━┳━━━━━━━━━━━━━━━━━━━━━━━━━━━━━┳━━━━━━━━━━━━━━━━━┓\n",
       "┃\u001b[1m \u001b[0m\u001b[1mLayer (type)                        \u001b[0m\u001b[1m \u001b[0m┃\u001b[1m \u001b[0m\u001b[1mOutput Shape               \u001b[0m\u001b[1m \u001b[0m┃\u001b[1m \u001b[0m\u001b[1m        Param #\u001b[0m\u001b[1m \u001b[0m┃\n",
       "┡━━━━━━━━━━━━━━━━━━━━━━━━━━━━━━━━━━━━━━╇━━━━━━━━━━━━━━━━━━━━━━━━━━━━━╇━━━━━━━━━━━━━━━━━┩\n",
       "│ dense (\u001b[38;5;33mDense\u001b[0m)                        │ ?                           │     \u001b[38;5;34m0\u001b[0m (unbuilt) │\n",
       "└──────────────────────────────────────┴─────────────────────────────┴─────────────────┘\n"
      ]
     },
     "metadata": {},
     "output_type": "display_data"
    },
    {
     "data": {
      "text/html": [
       "<pre style=\"white-space:pre;overflow-x:auto;line-height:normal;font-family:Menlo,'DejaVu Sans Mono',consolas,'Courier New',monospace\"><span style=\"font-weight: bold\"> Total params: </span><span style=\"color: #00af00; text-decoration-color: #00af00\">0</span> (0.00 B)\n",
       "</pre>\n"
      ],
      "text/plain": [
       "\u001b[1m Total params: \u001b[0m\u001b[38;5;34m0\u001b[0m (0.00 B)\n"
      ]
     },
     "metadata": {},
     "output_type": "display_data"
    },
    {
     "data": {
      "text/html": [
       "<pre style=\"white-space:pre;overflow-x:auto;line-height:normal;font-family:Menlo,'DejaVu Sans Mono',consolas,'Courier New',monospace\"><span style=\"font-weight: bold\"> Trainable params: </span><span style=\"color: #00af00; text-decoration-color: #00af00\">0</span> (0.00 B)\n",
       "</pre>\n"
      ],
      "text/plain": [
       "\u001b[1m Trainable params: \u001b[0m\u001b[38;5;34m0\u001b[0m (0.00 B)\n"
      ]
     },
     "metadata": {},
     "output_type": "display_data"
    },
    {
     "data": {
      "text/html": [
       "<pre style=\"white-space:pre;overflow-x:auto;line-height:normal;font-family:Menlo,'DejaVu Sans Mono',consolas,'Courier New',monospace\"><span style=\"font-weight: bold\"> Non-trainable params: </span><span style=\"color: #00af00; text-decoration-color: #00af00\">0</span> (0.00 B)\n",
       "</pre>\n"
      ],
      "text/plain": [
       "\u001b[1m Non-trainable params: \u001b[0m\u001b[38;5;34m0\u001b[0m (0.00 B)\n"
      ]
     },
     "metadata": {},
     "output_type": "display_data"
    }
   ],
   "source": [
    "def get_model():\n",
    "    #Linear SVM model\n",
    "    model = tf.keras.Sequential()\n",
    "    # Metric: is a function to assess model performance. Similar to loss functions, except that the results from evaluating a metric are not used when training the model. Note that you may use any loss function as a metric.\n",
    "    # Optimizer: adam is a commonly used one. Learning rate: step size when adjusting paramters in model (usually 0.001 to 0.1). Larger learning rate reduces iterations but reduces accuracy, smaller rate gives higher accuracy and more iterations. https://stackoverflow.com/questions/59737875/keras-change-learning-rate\n",
    "    # Dense layer of 1 means that this layer has one neuron (unit). Since only one layer (output layer) is being added with one neuron, it's linear.\n",
    "    # Activation function: mathematical function applied to the neuron output in a neural layer. These are used to introduce non-linearity in a neural network. Linear (pass through): input unmodified. https://keras.io/api/layers/activations/.\n",
    "    # Kernel regularizer: Typical values for the regularisation parameters are 1 to 10, 10 being default. https://keras.io/api/layers/regularizers/. L1 and L2 regularizers have default of 0.01. The L2 regularization penalty is computed as: loss = l2 * reduce_sum(square(x)).Kernel regularizer tries to reduce the weights (excluding bias). https://stats.stackexchange.com/questions/383310/what-is-the-difference-between-kernel-bias-and-activity-regulizers-and-when-t\n",
    "    # Loss: Hinge loss is equivalent to slack variable. Custom loss function used for hinge loss https://keras.io/api/losses/. https://keras.io/api/losses/hinge_losses/.\n",
    "    # Kernel: linear, polynomial, guassian, sigmoid, etc\n",
    "    optmzr = tf.keras.optimizers.Adam(learning_rate=0.01)\n",
    "    model.add(tf.keras.layers.Dense(1, activation='linear', kernel_regularizer=tf.keras.regularizers.l2(1)))\n",
    "    model.compile(optimizer=optmzr, loss=tf.keras.losses.Hinge(), metrics=[\"accuracy\"])\n",
    "    return model\n",
    "\n",
    "model = get_model()\n",
    "model.summary()"
   ]
  },
  {
   "cell_type": "code",
   "execution_count": 5,
   "metadata": {
    "colab": {
     "base_uri": "https://localhost:8080/"
    },
    "id": "0T4aNFGue-nJ",
    "outputId": "78fcc858-041b-4f61-b486-92fa381454d7"
   },
   "outputs": [
    {
     "name": "stdout",
     "output_type": "stream",
     "text": [
      "Finished training the model\n"
     ]
    }
   ],
   "source": [
    "# batch_size: Number of samples per gradient update. If unspecified, batch_size will default to 32. The batch size is the number of training examples that you use to perform one step of stochastic gradient descent (SGD). https://stackoverflow.com/questions/61029052/what-is-the-batchsize-in-tensorflows-model-fit-function\n",
    "history = model.fit(x, y, epochs=100, verbose=False)\n",
    "print(\"Finished training the model\")"
   ]
  },
  {
   "cell_type": "code",
   "execution_count": 6,
   "metadata": {
    "id": "uTEIZ5HTun-m"
   },
   "outputs": [],
   "source": [
    "# accuracy = history.history['accuracy']\n",
    "# # val_accuracy = history.history['val_accuracy']\n",
    "# loss = history.history['loss']\n",
    "# # val_loss = history.history['val_loss']\n",
    "\n",
    "# plt.figure(figsize=(5, 5))\n",
    "# plt.xlabel('Epoch Number')\n",
    "# plt.ylabel(\"Loss Magnitude\")\n",
    "# plt.plot(history.history['loss'])\n",
    "\n",
    "# plt.figure(figsize=(5, 5))\n",
    "# plt.plot(accuracy, label='Training Accuracy')\n",
    "# plt.xlabel('Epoch Number')\n",
    "# plt.ylabel('Accuracy')\n",
    "\n",
    "# plt.figure(figsize=(5, 5))\n",
    "# plt.plot(loss, label='Training Loss')\n",
    "# plt.xlabel('Epoch Number')\n",
    "# plt.ylabel('Loss')\n",
    "\n",
    "# plt.figure(figsize=(5, 5))\n",
    "# plt.plot(x, y) # model.layers[0].kernel.numpy(), -model.layers[0].bias.numpy()\n",
    "\n",
    "# model.compile(optimizer=\"adam\", loss=\"sparse_categorical_crossentropy\", metrics=[\"accuracy\"])\n",
    "# loss, acc = model.evaluate(test_data)\n",
    "# pred = np.argmax(model.predict(test_data), axis=1)\n",
    "# confusion = tf.math.confusion_matrix(labels=tf.constant(test_labels), predictions=tf.constant(pred), num_classes=4)\n",
    "# print(confusion)\n",
    "# print(\"Loss {}, Accuracy {}\".format(loss, acc))\n",
    "\n",
    "# history = model.fit(X_train, y_train, validation_data=(X_val, y_val), epochs=10, batch_size=32)\n",
    "\n",
    "\n",
    "# plot(X, Y, W=model.weight.t().detach().numpy(), b=-model.bias.detach().numpy())\n",
    "\n",
    "# history = model.fit(train_features, train_labels, epochs=400, batch_size=64, validation_data=(test_features, test_labels))"
   ]
  },
  {
   "cell_type": "code",
   "execution_count": null,
   "metadata": {
    "id": "kQc5wmDcxPwg"
   },
   "outputs": [],
   "source": [
    "# print(f' W: {model.weights}')\n",
    "# w0 = model.get_weights()[0] # weight vector\n",
    "# w1 = model.get_weights()[1] # bias\n",
    "\n",
    "# print(model.layers[0].kernel.numpy()) # Weight vector\n",
    "# print(-model.layers[0].bias.numpy()) # Bias\n",
    "\n",
    "# prediction = model.predict_generator(test, verbose=1)\n",
    "\n",
    "# m = - w0[0]/w0[1]\n",
    "# b = - w1[0]\n",
    "\n",
    "# xSep          = [x[1] for x in xDataset]\n",
    "# ySep          = [m * x + b for x in xSep]\n",
    "\n",
    "# plt.figure(figsize=(5, 5))\n",
    "# plt.scatter(dataDrop[:,1], dataDrop[:,2], c='red', label='Fall')\n",
    "# plt.scatter(dataWalk[:,1], dataWalk[:,2], c='blue', label='Walk')\n",
    "# plt.xlabel(\"axyStdDevL\")\n",
    "# plt.ylabel(\"axyStdDevR\")\n",
    "# plt.legend(loc=\"upper right\")\n",
    "\n",
    "# plot_decision_regions(x, y, clf=model, legend=2)\n",
    "\n",
    "x_min, x_max = x[:, 0].min() - 1, x[:, 0].max() + 1\n",
    "y_min, y_max = x[:, 1].min() - 1, x[:, 1].max() + 1\n",
    "xx, yy = numpy.meshgrid(numpy.arange(x_min, x_max, 0.01),\n",
    "                         numpy.arange(y_min, y_max, 0.01))\n",
    "Z = model.predict(numpy.c_[xx.ravel(), yy.ravel()])\n",
    "Z = Z.reshape(xx.shape)\n",
    "cs = plt.contourf(xx, yy, Z, cmap=plt.cm.coolwarm, alpha=0.8)\n",
    "plt.scatter(x[:, 0], x[:, 1], c=y, cmap=plt.cm.Set1)\n",
    "plt.show()\n"
   ]
  }
 ],
 "metadata": {
  "colab": {
   "authorship_tag": "ABX9TyN5O2I1m4cTg8rkTjW8uxcz",
   "include_colab_link": true,
   "provenance": []
  },
  "kernelspec": {
   "display_name": "Python 3",
   "name": "python3"
  },
  "language_info": {
   "codemirror_mode": {
    "name": "ipython",
    "version": 3
   },
   "file_extension": ".py",
   "mimetype": "text/x-python",
   "name": "python",
   "nbconvert_exporter": "python",
   "pygments_lexer": "ipython3",
   "version": "3.8.2"
  }
 },
 "nbformat": 4,
 "nbformat_minor": 0
}
